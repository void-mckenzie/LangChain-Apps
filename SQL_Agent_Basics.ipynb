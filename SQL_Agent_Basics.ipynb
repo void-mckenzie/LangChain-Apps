{
  "nbformat": 4,
  "nbformat_minor": 0,
  "metadata": {
    "colab": {
      "provenance": []
    },
    "kernelspec": {
      "name": "python3",
      "display_name": "Python 3"
    },
    "language_info": {
      "name": "python"
    }
  },
  "cells": [
    {
      "cell_type": "code",
      "execution_count": 1,
      "metadata": {
        "colab": {
          "base_uri": "https://localhost:8080/"
        },
        "id": "f4owlk8ofkaA",
        "outputId": "c61ec5e1-526e-4292-dcc6-918b3b5fc166"
      },
      "outputs": [
        {
          "output_type": "stream",
          "name": "stdout",
          "text": [
            "\u001b[2K     \u001b[90m━━━━━━━━━━━━━━━━━━━━━━━━━━━━━━━━━━━━━━━━\u001b[0m \u001b[32m1.8/1.8 MB\u001b[0m \u001b[31m16.7 MB/s\u001b[0m eta \u001b[36m0:00:00\u001b[0m\n",
            "\u001b[2K     \u001b[90m━━━━━━━━━━━━━━━━━━━━━━━━━━━━━━━━━━━━━━━━\u001b[0m \u001b[32m40.0/40.0 kB\u001b[0m \u001b[31m3.5 MB/s\u001b[0m eta \u001b[36m0:00:00\u001b[0m\n",
            "\u001b[2K     \u001b[90m━━━━━━━━━━━━━━━━━━━━━━━━━━━━━━━━━━━━━━━━\u001b[0m \u001b[32m49.4/49.4 kB\u001b[0m \u001b[31m4.1 MB/s\u001b[0m eta \u001b[36m0:00:00\u001b[0m\n",
            "\u001b[2K     \u001b[90m━━━━━━━━━━━━━━━━━━━━━━━━━━━━━━━━━━━━━━━━\u001b[0m \u001b[32m77.0/77.0 kB\u001b[0m \u001b[31m1.6 MB/s\u001b[0m eta \u001b[36m0:00:00\u001b[0m\n",
            "\u001b[?25h"
          ]
        }
      ],
      "source": [
        "!pip install -q langchain\n",
        "!pip install -q openai"
      ]
    },
    {
      "cell_type": "code",
      "source": [
        "import os\n",
        "os.environ['OPENAI_API_KEY'] = 'sk-'"
      ],
      "metadata": {
        "id": "sTFxG5j8fml-"
      },
      "execution_count": 3,
      "outputs": []
    },
    {
      "cell_type": "code",
      "source": [],
      "metadata": {
        "id": "TMpLPtsWgP-J"
      },
      "execution_count": null,
      "outputs": []
    },
    {
      "cell_type": "code",
      "source": [
        "import numpy as np\n",
        "import pandas as pd\n",
        "import sqlite3\n",
        "\n",
        "df = pd.read_csv(\"data.csv\")\n",
        "\n",
        "df.rename(columns={'User ID': 'user_id',\n",
        "                   'Product ID': 'product_id',\n",
        "                   'Product Name' : 'product_name',\n",
        "                   'Brand' : 'brand',\n",
        "                   'Category' : 'category',\n",
        "                   'Price' : 'price',\n",
        "                   'Color' : 'color',\n",
        "                   'Size' : 'size'}, inplace=True)\n",
        "\n",
        "conn = sqlite3.connect('fashion_db.sqlite')\n",
        "c = conn.cursor()\n",
        "\n",
        "c.execute('CREATE TABLE IF NOT EXISTS fashion_products (user_id int, product_id int, product_name text, brand text, category text, price int, rating float, color text, size text)')\n",
        "conn.commit()\n",
        "\n",
        "df.to_sql('fashion_products', conn, if_exists='replace', index = False)\n",
        "\n",
        "c.execute('''\n",
        "SELECT product_name FROM fashion_products LIMIT 100\n",
        "          ''')\n",
        "\n",
        "for row in c.fetchall():\n",
        "    print (row)\n"
      ],
      "metadata": {
        "id": "WDLS9BKDgP-6"
      },
      "execution_count": 5,
      "outputs": []
    },
    {
      "cell_type": "markdown",
      "source": [
        "Reading the DB"
      ],
      "metadata": {
        "id": "OlQAEdjag6qd"
      }
    },
    {
      "cell_type": "code",
      "source": [
        "def read_sql_query(sql, db):\n",
        "    conn = sqlite3.connect(db)\n",
        "    cur = conn.cursor()\n",
        "    cur.execute(sql)\n",
        "    rows = cur.fetchall()\n",
        "    for row in rows:\n",
        "        print(row)\n",
        "    conn.close()\n",
        ""
      ],
      "metadata": {
        "id": "77KbRs42g2p-"
      },
      "execution_count": null,
      "outputs": []
    },
    {
      "cell_type": "code",
      "source": [
        "import sqlite3\n",
        "read_sql_query('SELECT * FROM fashion_products LIMIT 10;',\n",
        "               \"fashion_db.sqlite\")"
      ],
      "metadata": {
        "id": "9kEelS8chAQn"
      },
      "execution_count": null,
      "outputs": []
    },
    {
      "cell_type": "markdown",
      "source": [
        "LangChain Agent"
      ],
      "metadata": {
        "id": "8YgRH0rYhBY0"
      }
    },
    {
      "cell_type": "code",
      "source": [
        "from langchain import OpenAI, SQLDatabase, SQLDatabaseChain\n",
        "input_db = SQLDatabase.from_uri('sqlite:///fashion_db.sqlite')\n",
        "llm_1 = OpenAI(temperature=0)\n",
        "db_agent = SQLDatabaseChain(llm = llm_1,\n",
        "                            database = input_db,\n",
        "                            verbose=True)"
      ],
      "metadata": {
        "id": "yUBXDucphDNQ"
      },
      "execution_count": null,
      "outputs": []
    },
    {
      "cell_type": "code",
      "source": [
        "db_agent.run(\"how many rows are there?\")\n"
      ],
      "metadata": {
        "id": "SghihLZuhJ8B"
      },
      "execution_count": null,
      "outputs": []
    },
    {
      "cell_type": "code",
      "source": [
        "db_agent.run(\"how many entries of Adidas are present?\")\n"
      ],
      "metadata": {
        "id": "24o4WQaXhLNN"
      },
      "execution_count": null,
      "outputs": []
    },
    {
      "cell_type": "code",
      "source": [
        "db_agent.run(\"how many XL products of Nike are there that have a rating of more than 4?\")\n"
      ],
      "metadata": {
        "id": "CgL1mwN3hNvx"
      },
      "execution_count": null,
      "outputs": []
    },
    {
      "cell_type": "code",
      "source": [
        "db_agent.run(\"Give all the details of Adidas which have a size of L and have a rating of more than 4.2\")\n"
      ],
      "metadata": {
        "id": "qIMtkeEKhRIn"
      },
      "execution_count": null,
      "outputs": []
    }
  ]
}